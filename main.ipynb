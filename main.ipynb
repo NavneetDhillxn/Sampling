{
 "cells": [
  {
   "cell_type": "code",
   "execution_count": 63,
   "metadata": {},
   "outputs": [],
   "source": [
    "import pandas as pd\n",
    "from sklearn.model_selection import train_test_split\n",
    "from imblearn.over_sampling import RandomOverSampler, SMOTE, ADASYN\n",
    "from imblearn.under_sampling import RandomUnderSampler, TomekLinks\n",
    "from sklearn.tree import DecisionTreeClassifier\n",
    "from sklearn.neighbors import KNeighborsClassifier\n",
    "from sklearn.linear_model import LogisticRegression\n",
    "from sklearn.ensemble import RandomForestClassifier\n",
    "from sklearn.metrics import accuracy_score, precision_score, recall_score, f1_score\n",
    "from sklearn.svm import SVC"
   ]
  },
  {
   "cell_type": "code",
   "execution_count": 64,
   "metadata": {},
   "outputs": [],
   "source": [
    "df = pd.read_csv(\"./CreditCard_data.csv\")"
   ]
  },
  {
   "cell_type": "code",
   "execution_count": 65,
   "metadata": {},
   "outputs": [],
   "source": [
    "class_counts = df[\"Class\"].value_counts()"
   ]
  },
  {
   "cell_type": "code",
   "execution_count": 66,
   "metadata": {},
   "outputs": [],
   "source": [
    "majority_class = class_counts.idxmax()\n",
    "minority_class = class_counts.idxmin()"
   ]
  },
  {
   "cell_type": "code",
   "execution_count": 67,
   "metadata": {},
   "outputs": [],
   "source": [
    "X = df.drop(\"Class\", axis=1)\n",
    "y = df[\"Class\"]"
   ]
  },
  {
   "cell_type": "code",
   "execution_count": 68,
   "metadata": {},
   "outputs": [],
   "source": [
    "X_train, X_test, y_train, y_test = train_test_split(X, y, test_size=0.2, random_state=40)"
   ]
  },
  {
   "cell_type": "code",
   "execution_count": 69,
   "metadata": {},
   "outputs": [],
   "source": [
    "samplings = [\n",
    "    SMOTE(random_state=40),\n",
    "    RandomUnderSampler(random_state=40),\n",
    "    RandomOverSampler(random_state=40),\n",
    "    ADASYN(random_state=40),\n",
    "    TomekLinks()\n",
    "]"
   ]
  },
  {
   "cell_type": "code",
   "execution_count": 70,
   "metadata": {},
   "outputs": [],
   "source": [
    "# Create a list of five different machine learning models\n",
    "models = [\n",
    "    DecisionTreeClassifier(random_state=40),\n",
    "    KNeighborsClassifier(n_neighbors=3),\n",
    "    LogisticRegression(random_state=40),\n",
    "    RandomForestClassifier(random_state=40),\n",
    "    SVC(random_state=40)\n",
    "]"
   ]
  },
  {
   "cell_type": "code",
   "execution_count": 71,
   "metadata": {},
   "outputs": [],
   "source": [
    "accuracy_dict = {}"
   ]
  },
  {
   "cell_type": "code",
   "execution_count": 72,
   "metadata": {},
   "outputs": [
    {
     "name": "stderr",
     "output_type": "stream",
     "text": [
      "c:\\Users\\lenovo\\AppData\\Local\\Programs\\Python\\Python310\\lib\\site-packages\\sklearn\\linear_model\\_logistic.py:814: ConvergenceWarning: lbfgs failed to converge (status=1):\n",
      "STOP: TOTAL NO. of ITERATIONS REACHED LIMIT.\n",
      "\n",
      "Increase the number of iterations (max_iter) or scale the data as shown in:\n",
      "    https://scikit-learn.org/stable/modules/preprocessing.html\n",
      "Please also refer to the documentation for alternative solver options:\n",
      "    https://scikit-learn.org/stable/modules/linear_model.html#logistic-regression\n",
      "  n_iter_i = _check_optimize_result(\n",
      "c:\\Users\\lenovo\\AppData\\Local\\Programs\\Python\\Python310\\lib\\site-packages\\sklearn\\linear_model\\_logistic.py:814: ConvergenceWarning: lbfgs failed to converge (status=1):\n",
      "STOP: TOTAL NO. of ITERATIONS REACHED LIMIT.\n",
      "\n",
      "Increase the number of iterations (max_iter) or scale the data as shown in:\n",
      "    https://scikit-learn.org/stable/modules/preprocessing.html\n",
      "Please also refer to the documentation for alternative solver options:\n",
      "    https://scikit-learn.org/stable/modules/linear_model.html#logistic-regression\n",
      "  n_iter_i = _check_optimize_result(\n",
      "c:\\Users\\lenovo\\AppData\\Local\\Programs\\Python\\Python310\\lib\\site-packages\\sklearn\\linear_model\\_logistic.py:814: ConvergenceWarning: lbfgs failed to converge (status=1):\n",
      "STOP: TOTAL NO. of ITERATIONS REACHED LIMIT.\n",
      "\n",
      "Increase the number of iterations (max_iter) or scale the data as shown in:\n",
      "    https://scikit-learn.org/stable/modules/preprocessing.html\n",
      "Please also refer to the documentation for alternative solver options:\n",
      "    https://scikit-learn.org/stable/modules/linear_model.html#logistic-regression\n",
      "  n_iter_i = _check_optimize_result(\n",
      "c:\\Users\\lenovo\\AppData\\Local\\Programs\\Python\\Python310\\lib\\site-packages\\sklearn\\linear_model\\_logistic.py:814: ConvergenceWarning: lbfgs failed to converge (status=1):\n",
      "STOP: TOTAL NO. of ITERATIONS REACHED LIMIT.\n",
      "\n",
      "Increase the number of iterations (max_iter) or scale the data as shown in:\n",
      "    https://scikit-learn.org/stable/modules/preprocessing.html\n",
      "Please also refer to the documentation for alternative solver options:\n",
      "    https://scikit-learn.org/stable/modules/linear_model.html#logistic-regression\n",
      "  n_iter_i = _check_optimize_result(\n",
      "c:\\Users\\lenovo\\AppData\\Local\\Programs\\Python\\Python310\\lib\\site-packages\\sklearn\\linear_model\\_logistic.py:814: ConvergenceWarning: lbfgs failed to converge (status=1):\n",
      "STOP: TOTAL NO. of ITERATIONS REACHED LIMIT.\n",
      "\n",
      "Increase the number of iterations (max_iter) or scale the data as shown in:\n",
      "    https://scikit-learn.org/stable/modules/preprocessing.html\n",
      "Please also refer to the documentation for alternative solver options:\n",
      "    https://scikit-learn.org/stable/modules/linear_model.html#logistic-regression\n",
      "  n_iter_i = _check_optimize_result(\n"
     ]
    },
    {
     "name": "stdout",
     "output_type": "stream",
     "text": [
      "                                                    SMOTE(random_state=40)  \\\n",
      "DecisionTreeClassifier(random_state=40)                           0.987097   \n",
      "KNeighborsClassifier(n_neighbors=3)                               0.767742   \n",
      "LogisticRegression(random_state=40)                               0.929032   \n",
      "(DecisionTreeClassifier(max_features='auto', ra...                0.987097   \n",
      "SVC(random_state=40)                                              0.535484   \n",
      "\n",
      "                                                    RandomUnderSampler(random_state=40)  \\\n",
      "DecisionTreeClassifier(random_state=40)                                        0.722581   \n",
      "KNeighborsClassifier(n_neighbors=3)                                            0.541935   \n",
      "LogisticRegression(random_state=40)                                            0.677419   \n",
      "(DecisionTreeClassifier(max_features='auto', ra...                             0.638710   \n",
      "SVC(random_state=40)                                                           0.735484   \n",
      "\n",
      "                                                    RandomOverSampler(random_state=40)  \\\n",
      "DecisionTreeClassifier(random_state=40)                                       0.987097   \n",
      "KNeighborsClassifier(n_neighbors=3)                                           0.987097   \n",
      "LogisticRegression(random_state=40)                                           0.922581   \n",
      "(DecisionTreeClassifier(max_features='auto', ra...                            0.987097   \n",
      "SVC(random_state=40)                                                          0.722581   \n",
      "\n",
      "                                                    ADASYN(random_state=40)  \\\n",
      "DecisionTreeClassifier(random_state=40)                            0.987097   \n",
      "KNeighborsClassifier(n_neighbors=3)                                0.761290   \n",
      "LogisticRegression(random_state=40)                                0.922581   \n",
      "(DecisionTreeClassifier(max_features='auto', ra...                 0.987097   \n",
      "SVC(random_state=40)                                               0.535484   \n",
      "\n",
      "                                                    TomekLinks()  \n",
      "DecisionTreeClassifier(random_state=40)                 0.974194  \n",
      "KNeighborsClassifier(n_neighbors=3)                     0.987097  \n",
      "LogisticRegression(random_state=40)                     0.987097  \n",
      "(DecisionTreeClassifier(max_features='auto', ra...      0.987097  \n",
      "SVC(random_state=40)                                    0.987097  \n"
     ]
    }
   ],
   "source": [
    "for sampling in samplings:\n",
    "    accuracy_dict[sampling] = {}\n",
    "    for model in models:\n",
    "        # Apply the sampling technique to the training set\n",
    "        X_train_resampled, y_train_resampled = sampling.fit_resample(X_train, y_train)\n",
    "\n",
    "        # Train the machine learning model on the resampled training set\n",
    "        model.fit(X_train_resampled, y_train_resampled)\n",
    "\n",
    "        # Make predictions on the testing set\n",
    "        y_pred = model.predict(X_test)\n",
    "\n",
    "        # Compute the accuracy score\n",
    "        accuracy = accuracy_score(y_test, y_pred)\n",
    "        \n",
    "        # Add the accuracy score to the dictionary\n",
    "        accuracy_dict[sampling][model] = accuracy\n",
    "\n",
    "# Convert the accuracy dictionary to a DataFrame and print the table\n",
    "accuracy_df = pd.DataFrame(accuracy_dict)\n",
    "print(accuracy_df)\n"
   ]
  },
  {
   "cell_type": "code",
   "execution_count": 73,
   "metadata": {},
   "outputs": [
    {
     "name": "stdout",
     "output_type": "stream",
     "text": [
      "We got the best result by combining SMOTE(random_state=40) sampling Over the DecisionTreeClassifier(random_state=40) model\n"
     ]
    }
   ],
   "source": [
    "# Find the sampling technique with the highest accuracy score\n",
    "best_sampling = max(accuracy_dict, key=lambda x: max(accuracy_dict[x].values()))\n",
    "\n",
    "# Find the model with the highest accuracy score for the best sampling technique\n",
    "best_model = max(accuracy_dict[best_sampling], key=accuracy_dict[best_sampling].get)\n",
    "\n",
    "# Print the best sampling technique and best model\n",
    "print(\"We got the best result by combining {} sampling Over the {} model\".format(best_sampling,best_model))"
   ]
  }
 ],
 "metadata": {
  "kernelspec": {
   "display_name": "Python 3.10.2 64-bit",
   "language": "python",
   "name": "python3"
  },
  "language_info": {
   "codemirror_mode": {
    "name": "ipython",
    "version": 3
   },
   "file_extension": ".py",
   "mimetype": "text/x-python",
   "name": "python",
   "nbconvert_exporter": "python",
   "pygments_lexer": "ipython3",
   "version": "3.10.2"
  },
  "orig_nbformat": 4,
  "vscode": {
   "interpreter": {
    "hash": "213524bb45a1aeaf737b1d8c77d7b8db5d425938d9dffc5f4bc6fe6dd3324700"
   }
  }
 },
 "nbformat": 4,
 "nbformat_minor": 2
}
